{
 "cells": [
  {
   "cell_type": "markdown",
   "metadata": {},
   "source": [
    "## IMPORTANCIA DE PYTHON\n",
    "\n",
    "\n",
    "\n",
    "![Pyython](https://www.redeszone.net/app/uploads/2019/01/C%C3%B3digo-Python.jpg)\n",
    "\n",
    "\n"
   ]
  },
  {
   "cell_type": "markdown",
   "metadata": {},
   "source": [
    "En el mundo de la programación las actualizaciones en código ocurren tan rápido que a veces no sabes cuál\n",
    "es el que verdaderamente merece tu tiempo para aprender y desarrollarte en él. Python es uno de los \n",
    "lenguajes que ha sido constante y solido por casi tres décadas."
   ]
  },
  {
   "cell_type": "markdown",
   "metadata": {},
   "source": [
    "\n",
    "Primer que nada, se ha vuelto tan común que muchas computadores con sistema Linux y Windows ya las tienen \n",
    "pre-instaladas , pero en caso de lo contrario , su descarga es sumamente fácil a diferencia de otros programas.\n",
    "Además una de las ventajas que ofrece es que no necesita descarga de softwares extra para trabajar de manera útil, \n",
    "pues con el puro interpretador puedes hacer códigos complejos a simples. "
   ]
  },
  {
   "cell_type": "markdown",
   "metadata": {},
   "source": [
    "Es una buena alternativa para optar por este lenguaje en el mundo de la programación, puesto que es un lenguaje\n",
    "muy sencillo y fácil, Su sintaxis es fácil de entender puesto que es cercana al lenguaje natural. Pues es lo que\n",
    "se propuso desde un principio su creador [Guido van Rossum](https://es.wikipedia.org/wiki/Guido_van_Rossum) en diciembre de 1989 como objetivo para navidad sobretodo \n",
    "omitiendo el punto y coma al final  o los paréntesis en su redacción, en su lugar uso de espacios para tener una \n",
    "visuzlizacion mas limpia, y que el usuario tuviera la libertad de crear sus propios modulos de código de manera más \n",
    "habitual."
   ]
  },
  {
   "cell_type": "markdown",
   "metadata": {},
   "source": [
    "Uno de los usos más importantes de Python y es justamente por la facilidad de su código, es que es compartible\n",
    "para la programación de otros softwares, maquinas, aplicaciones etc. Estas hacen uso de patrones de algoritmos \n",
    "que son vitales para el desarrollo de muchos de sus ritos cotidianos, por ejemplo **Amazon** o **YouTube.**"
   ]
  },
  {
   "cell_type": "markdown",
   "metadata": {},
   "source": [
    "Todas las menciones anteriores  de la utilidad de Python la hacen sumamente importante en el desarrollo y capacitación de empleados, pues el que posee esta herramienta la da un “plus y ventaja laboral” en casi cualquier campo de que desarrolle (en unos más que otras claro). Incluso es muy probable que si no lo sabe, la misma empresa busque capacitarlo de una manera u otra."
   ]
  },
  {
   "cell_type": "code",
   "execution_count": null,
   "metadata": {},
   "outputs": [],
   "source": []
  }
 ],
 "metadata": {
  "kernelspec": {
   "display_name": "Python 3",
   "language": "python",
   "name": "python3"
  },
  "language_info": {
   "codemirror_mode": {
    "name": "ipython",
    "version": 3
   },
   "file_extension": ".py",
   "mimetype": "text/x-python",
   "name": "python",
   "nbconvert_exporter": "python",
   "pygments_lexer": "ipython3",
   "version": "3.7.3"
  }
 },
 "nbformat": 4,
 "nbformat_minor": 2
}
