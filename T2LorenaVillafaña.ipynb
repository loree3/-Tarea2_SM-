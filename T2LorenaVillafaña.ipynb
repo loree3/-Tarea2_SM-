{
 "cells": [
  {
   "cell_type": "markdown",
   "metadata": {},
   "source": [
    "IMPORTANCIA DE PYTHON\n",
    "En el mundo de la programación las actualizaciones en código ocurren tan rápido que a veces no sabes cuál es el que verdaderamente merece tu tiempo para aprender y desarrollarte en él. Python es uno de los lenguajes que ha sido constante y solido por casi tres décadas.\n",
    "Primer que nada, se ha vuelto tan común que muchas computadores con sistema Linux y Windows ya las tienen pre-instaladas , pero en caso de lo contrario , su descarga es sumamente fácil a diferencia de otros programas. Además una de las ventajas que ofrece es que no necesita descarga de softwares extra para trabajar de manera útil, pues con el puro interpretador puedes hacer códigos complejos a simples. \n",
    "Es una buena alternativa para optar por este lenguaje en el mundo de la programación, puesto que es un lenguaje muy sencillo y fácil, Su sintaxis es fácil de entender puesto que es cercana al lenguaje natural.\n",
    "Uno de los usos más importantes de Python y es justamente por la facilidad de su código, es que es compartible para la programación de otros softwares, maquinas, aplicaciones etc. Estas hacen uso de patrones de algoritmos que son vitales para el desarrollo de muchos de sus ritos cotidianos, por ejemplo Amazon o YouTube.\n",
    "\n",
    "Todas las menciones anteriores  de la utilidad de Python la hacen sumamente importante en el desarrollo y capacitación de empleados, pues el que posee esta herramienta la da un “plus y ventaja laboral” en casi cualquier campo de que desarrolle (en unos más que otras claro). Incluso es muy probable que si no lo sabe, la misma empresa busque capacitarlo de una manera u otra.\n"
   ]
  }
 ],
 "metadata": {
  "kernelspec": {
   "display_name": "Python 3",
   "language": "python",
   "name": "python3"
  },
  "language_info": {
   "codemirror_mode": {
    "name": "ipython",
    "version": 3
   },
   "file_extension": ".py",
   "mimetype": "text/x-python",
   "name": "python",
   "nbconvert_exporter": "python",
   "pygments_lexer": "ipython3",
   "version": "3.7.3"
  }
 },
 "nbformat": 4,
 "nbformat_minor": 2
}
